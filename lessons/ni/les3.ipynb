{
 "cells": [
  {
   "cell_type": "code",
   "execution_count": 12,
   "metadata": {},
   "outputs": [],
   "source": [
    "import pandas as pd\n",
    "import numpy as np\n",
    "import scipy as sp\n",
    "\n",
    "from scipy import stats\n",
    "\n",
    "def get_earnings(f_size):\n",
    "    r = min(2, f_size)\n",
    "    rest = f_size - r\n",
    "    return r * 800 + np.random.normal(0, 100, 1)[0] + rest * 250"
   ]
  },
  {
   "cell_type": "markdown",
   "metadata": {},
   "source": [
    "<h2>Отношение R</h2>\n",
    "<h4>Сгенерируем данные выборки для примера</h4>\n",
    "Пусть N = 1000, n = 100"
   ]
  },
  {
   "cell_type": "code",
   "execution_count": 13,
   "metadata": {},
   "outputs": [
    {
     "data": {
      "text/plain": [
       "array([2, 2, 2, 2, 2, 2, 2, 5, 2, 2, 2, 1, 2, 3, 2, 1, 3, 2, 2, 5, 1, 3,\n",
       "       1, 3, 3, 4, 3, 3, 1, 3, 1, 1, 3, 2, 2, 3, 3, 5, 1, 1, 1, 2, 3, 1,\n",
       "       1, 3, 2, 4, 2, 1, 2, 1, 3, 3, 3, 3, 2, 1, 3, 6, 1, 3, 3, 2, 3, 2,\n",
       "       2, 2, 1, 2, 2, 3, 2, 2, 2, 5, 2, 3, 3, 3, 2, 4, 1, 2, 4, 3, 3, 4,\n",
       "       2, 3, 1, 2, 1, 2, 2, 2, 1, 3, 4, 5])"
      ]
     },
     "execution_count": 13,
     "metadata": {},
     "output_type": "execute_result"
    }
   ],
   "source": [
    "fams = sp.random.poisson(1.5, 100) + 1\n",
    "fams"
   ]
  },
  {
   "cell_type": "code",
   "execution_count": 14,
   "metadata": {},
   "outputs": [
    {
     "data": {
      "text/html": [
       "<div>\n",
       "<style scoped>\n",
       "    .dataframe tbody tr th:only-of-type {\n",
       "        vertical-align: middle;\n",
       "    }\n",
       "\n",
       "    .dataframe tbody tr th {\n",
       "        vertical-align: top;\n",
       "    }\n",
       "\n",
       "    .dataframe thead th {\n",
       "        text-align: right;\n",
       "    }\n",
       "</style>\n",
       "<table border=\"1\" class=\"dataframe\">\n",
       "  <thead>\n",
       "    <tr style=\"text-align: right;\">\n",
       "      <th></th>\n",
       "      <th>family_size</th>\n",
       "      <th>total_income</th>\n",
       "    </tr>\n",
       "  </thead>\n",
       "  <tbody>\n",
       "    <tr>\n",
       "      <th>0</th>\n",
       "      <td>2</td>\n",
       "      <td>1593.721472</td>\n",
       "    </tr>\n",
       "    <tr>\n",
       "      <th>1</th>\n",
       "      <td>2</td>\n",
       "      <td>1587.913303</td>\n",
       "    </tr>\n",
       "    <tr>\n",
       "      <th>2</th>\n",
       "      <td>2</td>\n",
       "      <td>1614.598465</td>\n",
       "    </tr>\n",
       "    <tr>\n",
       "      <th>3</th>\n",
       "      <td>2</td>\n",
       "      <td>1492.516791</td>\n",
       "    </tr>\n",
       "    <tr>\n",
       "      <th>4</th>\n",
       "      <td>2</td>\n",
       "      <td>1412.284666</td>\n",
       "    </tr>\n",
       "    <tr>\n",
       "      <th>...</th>\n",
       "      <td>...</td>\n",
       "      <td>...</td>\n",
       "    </tr>\n",
       "    <tr>\n",
       "      <th>95</th>\n",
       "      <td>2</td>\n",
       "      <td>1486.687685</td>\n",
       "    </tr>\n",
       "    <tr>\n",
       "      <th>96</th>\n",
       "      <td>1</td>\n",
       "      <td>877.135089</td>\n",
       "    </tr>\n",
       "    <tr>\n",
       "      <th>97</th>\n",
       "      <td>3</td>\n",
       "      <td>1855.336797</td>\n",
       "    </tr>\n",
       "    <tr>\n",
       "      <th>98</th>\n",
       "      <td>4</td>\n",
       "      <td>1951.873859</td>\n",
       "    </tr>\n",
       "    <tr>\n",
       "      <th>99</th>\n",
       "      <td>5</td>\n",
       "      <td>2266.160995</td>\n",
       "    </tr>\n",
       "  </tbody>\n",
       "</table>\n",
       "<p>100 rows × 2 columns</p>\n",
       "</div>"
      ],
      "text/plain": [
       "    family_size  total_income\n",
       "0             2   1593.721472\n",
       "1             2   1587.913303\n",
       "2             2   1614.598465\n",
       "3             2   1492.516791\n",
       "4             2   1412.284666\n",
       "..          ...           ...\n",
       "95            2   1486.687685\n",
       "96            1    877.135089\n",
       "97            3   1855.336797\n",
       "98            4   1951.873859\n",
       "99            5   2266.160995\n",
       "\n",
       "[100 rows x 2 columns]"
      ]
     },
     "execution_count": 14,
     "metadata": {},
     "output_type": "execute_result"
    }
   ],
   "source": [
    "df = pd.DataFrame([(f, get_earnings(f)) for f in fams], columns=['family_size', 'total_income'])\n",
    "df"
   ]
  },
  {
   "cell_type": "markdown",
   "metadata": {},
   "source": [
    "<h4>Найдем отношение R: общий заработок / количество человек в семье</h4>"
   ]
  },
  {
   "cell_type": "code",
   "execution_count": 16,
   "metadata": {},
   "outputs": [
    {
     "data": {
      "text/plain": [
       "659.0285108899203"
      ]
     },
     "execution_count": 16,
     "metadata": {},
     "output_type": "execute_result"
    }
   ],
   "source": [
    "R = df['total_income'].sum()/df['family_size'].sum()\n",
    "R"
   ]
  },
  {
   "cell_type": "markdown",
   "metadata": {},
   "source": [
    "Определим основные переменные"
   ]
  },
  {
   "cell_type": "code",
   "execution_count": 18,
   "metadata": {},
   "outputs": [
    {
     "data": {
      "text/plain": [
       "(1000, 100, 0.1)"
      ]
     },
     "execution_count": 18,
     "metadata": {},
     "output_type": "execute_result"
    }
   ],
   "source": [
    "N=1000\n",
    "n=len(df)\n",
    "f=n/N\n",
    "N, n, f"
   ]
  },
  {
   "cell_type": "code",
   "execution_count": 19,
   "metadata": {},
   "outputs": [],
   "source": [
    "x = df['family_size'].values\n",
    "y = df['total_income'].values"
   ]
  },
  {
   "cell_type": "code",
   "execution_count": 20,
   "metadata": {},
   "outputs": [
    {
     "data": {
      "text/plain": [
       "array([2, 2, 2, 2, 2, 2, 2, 5, 2, 2, 2, 1, 2, 3, 2, 1, 3, 2, 2, 5, 1, 3,\n",
       "       1, 3, 3, 4, 3, 3, 1, 3, 1, 1, 3, 2, 2, 3, 3, 5, 1, 1, 1, 2, 3, 1,\n",
       "       1, 3, 2, 4, 2, 1, 2, 1, 3, 3, 3, 3, 2, 1, 3, 6, 1, 3, 3, 2, 3, 2,\n",
       "       2, 2, 1, 2, 2, 3, 2, 2, 2, 5, 2, 3, 3, 3, 2, 4, 1, 2, 4, 3, 3, 4,\n",
       "       2, 3, 1, 2, 1, 2, 2, 2, 1, 3, 4, 5])"
      ]
     },
     "execution_count": 20,
     "metadata": {},
     "output_type": "execute_result"
    }
   ],
   "source": [
    "x"
   ]
  },
  {
   "cell_type": "code",
   "execution_count": 21,
   "metadata": {},
   "outputs": [
    {
     "data": {
      "text/plain": [
       "array([1593.72147243, 1587.91330272, 1614.59846518, 1492.51679144,\n",
       "       1412.28466649, 1497.1936943 , 1575.78202746, 2442.56984341,\n",
       "       1533.74317386, 1621.71580175, 1535.17960524,  692.78826211,\n",
       "       1412.2433069 , 1906.04074276, 1578.18954397,  753.69965402,\n",
       "       1868.15087037, 1700.92160505, 1574.22169045, 2391.31394253,\n",
       "        973.91595465, 1837.33055049,  729.47690865, 1929.83284763,\n",
       "       1797.06299656, 2277.85847905, 1942.09647217, 1872.97717192,\n",
       "        875.35870809, 1713.27693227,  709.29416062,  965.82416778,\n",
       "       1796.51875497, 1726.29111306, 1602.72747336, 1864.64987146,\n",
       "       1902.15122836, 2349.11833777,  774.92525809,  910.94603226,\n",
       "        739.71126462, 1572.04254101, 1870.76827565,  694.91940931,\n",
       "        880.79564335, 1881.68049485, 1303.06247123, 2047.30035157,\n",
       "       1588.18578873,  816.62551091, 1674.32050621,  425.04060081,\n",
       "       1714.36928011, 1836.44623845, 1685.44263247, 1880.331112  ,\n",
       "       1550.58423238,  670.45567514, 1818.15711855, 2676.6389523 ,\n",
       "        872.66777053, 2031.76360968, 1878.04937015, 1706.64138982,\n",
       "       1869.94944345, 1578.20867371, 1607.32469666, 1601.36092095,\n",
       "        837.28271   , 1723.31251631, 1645.41777141, 1830.79702395,\n",
       "       1564.514656  , 1553.65988393, 1593.21560016, 2395.61207841,\n",
       "       1606.52285761, 1905.23925434, 1968.8515712 , 1902.84219974,\n",
       "       1557.89630967, 2081.33145576,  818.89970129, 1730.16148032,\n",
       "       2100.31780111, 1889.04983952, 1826.30222582, 2016.15816703,\n",
       "       1572.77066688, 1933.21338376,  793.53090795, 1644.47745753,\n",
       "        674.47563344, 1522.73470835, 1572.7659594 , 1486.68768483,\n",
       "        877.13508933, 1855.33679733, 1951.87385935, 2266.16099471])"
      ]
     },
     "execution_count": 21,
     "metadata": {},
     "output_type": "execute_result"
    }
   ],
   "source": [
    "y"
   ]
  },
  {
   "cell_type": "markdown",
   "metadata": {},
   "source": [
    "Выборочная оценка R (в данном случае равна R)"
   ]
  },
  {
   "cell_type": "code",
   "execution_count": 30,
   "metadata": {},
   "outputs": [
    {
     "data": {
      "text/plain": [
       "(659.0285108899203, 659.0285108899203)"
      ]
     },
     "execution_count": 30,
     "metadata": {},
     "output_type": "execute_result"
    }
   ],
   "source": [
    "R_o = y.mean()/x.mean()\n",
    "R_o, R"
   ]
  },
  {
   "cell_type": "markdown",
   "metadata": {},
   "source": [
    "<h4>Посчитаем стандартную ошибку отношения R</h4>\n",
    "Сперва дисперсия s2"
   ]
  },
  {
   "cell_type": "code",
   "execution_count": 22,
   "metadata": {},
   "outputs": [
    {
     "data": {
      "text/plain": [
       "120366.27992444509"
      ]
     },
     "execution_count": 22,
     "metadata": {},
     "output_type": "execute_result"
    }
   ],
   "source": [
    "s2 = ((y*y).sum() - 2*R*(x*y).sum() + (R**2)*(x*x).sum()) / (n-1)\n",
    "s2"
   ]
  },
  {
   "cell_type": "code",
   "execution_count": 26,
   "metadata": {},
   "outputs": [
    {
     "data": {
      "text/plain": [
       "346.93843823428546"
      ]
     },
     "execution_count": 26,
     "metadata": {},
     "output_type": "execute_result"
    }
   ],
   "source": [
    "std = np.sqrt(s2)\n",
    "std"
   ]
  },
  {
   "cell_type": "markdown",
   "metadata": {},
   "source": [
    "Теперь стандартную ошибку s (с учетом поправки на конечность совокупности)"
   ]
  },
  {
   "cell_type": "code",
   "execution_count": 29,
   "metadata": {},
   "outputs": [
    {
     "data": {
      "text/plain": [
       "13.771326435338759"
      ]
     },
     "execution_count": 29,
     "metadata": {},
     "output_type": "execute_result"
    }
   ],
   "source": [
    "s = std * (np.sqrt(1-f))/(np.sqrt(n)*x.mean())\n",
    "s"
   ]
  },
  {
   "cell_type": "markdown",
   "metadata": {},
   "source": [
    "<b>Доверительный интервал</b> для отношения <br>\n",
    "для больших n можно использовать нормальную аппроксимацию следующим образом:"
   ]
  },
  {
   "cell_type": "code",
   "execution_count": 49,
   "metadata": {},
   "outputs": [
    {
     "data": {
      "text/plain": [
       "(632.037207057312, 686.0198147225286)"
      ]
     },
     "execution_count": 49,
     "metadata": {},
     "output_type": "execute_result"
    }
   ],
   "source": [
    "perc = 0.95\n",
    "alpha = 1 - perc\n",
    "t = sp.stats.norm.ppf(1-alpha/2)\n",
    "\n",
    "Rl = R_o - t*s\n",
    "Rr = R_o + t*s\n",
    "Rl,Rr"
   ]
  },
  {
   "cell_type": "markdown",
   "metadata": {},
   "source": [
    "<h2>Доли p</h2><br>\n",
    "Для предыдущего примера посчитаем <b>долю</b> семей, которые состоят из <b>более двух чловек</b>"
   ]
  },
  {
   "cell_type": "code",
   "execution_count": 35,
   "metadata": {},
   "outputs": [
    {
     "data": {
      "text/html": [
       "<div>\n",
       "<style scoped>\n",
       "    .dataframe tbody tr th:only-of-type {\n",
       "        vertical-align: middle;\n",
       "    }\n",
       "\n",
       "    .dataframe tbody tr th {\n",
       "        vertical-align: top;\n",
       "    }\n",
       "\n",
       "    .dataframe thead th {\n",
       "        text-align: right;\n",
       "    }\n",
       "</style>\n",
       "<table border=\"1\" class=\"dataframe\">\n",
       "  <thead>\n",
       "    <tr style=\"text-align: right;\">\n",
       "      <th></th>\n",
       "      <th>family_size</th>\n",
       "      <th>total_income</th>\n",
       "    </tr>\n",
       "  </thead>\n",
       "  <tbody>\n",
       "    <tr>\n",
       "      <th>7</th>\n",
       "      <td>5</td>\n",
       "      <td>2442.569843</td>\n",
       "    </tr>\n",
       "    <tr>\n",
       "      <th>13</th>\n",
       "      <td>3</td>\n",
       "      <td>1906.040743</td>\n",
       "    </tr>\n",
       "    <tr>\n",
       "      <th>16</th>\n",
       "      <td>3</td>\n",
       "      <td>1868.150870</td>\n",
       "    </tr>\n",
       "    <tr>\n",
       "      <th>19</th>\n",
       "      <td>5</td>\n",
       "      <td>2391.313943</td>\n",
       "    </tr>\n",
       "    <tr>\n",
       "      <th>21</th>\n",
       "      <td>3</td>\n",
       "      <td>1837.330550</td>\n",
       "    </tr>\n",
       "    <tr>\n",
       "      <th>23</th>\n",
       "      <td>3</td>\n",
       "      <td>1929.832848</td>\n",
       "    </tr>\n",
       "    <tr>\n",
       "      <th>24</th>\n",
       "      <td>3</td>\n",
       "      <td>1797.062997</td>\n",
       "    </tr>\n",
       "    <tr>\n",
       "      <th>25</th>\n",
       "      <td>4</td>\n",
       "      <td>2277.858479</td>\n",
       "    </tr>\n",
       "    <tr>\n",
       "      <th>26</th>\n",
       "      <td>3</td>\n",
       "      <td>1942.096472</td>\n",
       "    </tr>\n",
       "    <tr>\n",
       "      <th>27</th>\n",
       "      <td>3</td>\n",
       "      <td>1872.977172</td>\n",
       "    </tr>\n",
       "    <tr>\n",
       "      <th>29</th>\n",
       "      <td>3</td>\n",
       "      <td>1713.276932</td>\n",
       "    </tr>\n",
       "    <tr>\n",
       "      <th>32</th>\n",
       "      <td>3</td>\n",
       "      <td>1796.518755</td>\n",
       "    </tr>\n",
       "    <tr>\n",
       "      <th>35</th>\n",
       "      <td>3</td>\n",
       "      <td>1864.649871</td>\n",
       "    </tr>\n",
       "    <tr>\n",
       "      <th>36</th>\n",
       "      <td>3</td>\n",
       "      <td>1902.151228</td>\n",
       "    </tr>\n",
       "    <tr>\n",
       "      <th>37</th>\n",
       "      <td>5</td>\n",
       "      <td>2349.118338</td>\n",
       "    </tr>\n",
       "    <tr>\n",
       "      <th>42</th>\n",
       "      <td>3</td>\n",
       "      <td>1870.768276</td>\n",
       "    </tr>\n",
       "    <tr>\n",
       "      <th>45</th>\n",
       "      <td>3</td>\n",
       "      <td>1881.680495</td>\n",
       "    </tr>\n",
       "    <tr>\n",
       "      <th>47</th>\n",
       "      <td>4</td>\n",
       "      <td>2047.300352</td>\n",
       "    </tr>\n",
       "    <tr>\n",
       "      <th>52</th>\n",
       "      <td>3</td>\n",
       "      <td>1714.369280</td>\n",
       "    </tr>\n",
       "    <tr>\n",
       "      <th>53</th>\n",
       "      <td>3</td>\n",
       "      <td>1836.446238</td>\n",
       "    </tr>\n",
       "    <tr>\n",
       "      <th>54</th>\n",
       "      <td>3</td>\n",
       "      <td>1685.442632</td>\n",
       "    </tr>\n",
       "    <tr>\n",
       "      <th>55</th>\n",
       "      <td>3</td>\n",
       "      <td>1880.331112</td>\n",
       "    </tr>\n",
       "    <tr>\n",
       "      <th>58</th>\n",
       "      <td>3</td>\n",
       "      <td>1818.157119</td>\n",
       "    </tr>\n",
       "    <tr>\n",
       "      <th>59</th>\n",
       "      <td>6</td>\n",
       "      <td>2676.638952</td>\n",
       "    </tr>\n",
       "    <tr>\n",
       "      <th>61</th>\n",
       "      <td>3</td>\n",
       "      <td>2031.763610</td>\n",
       "    </tr>\n",
       "    <tr>\n",
       "      <th>62</th>\n",
       "      <td>3</td>\n",
       "      <td>1878.049370</td>\n",
       "    </tr>\n",
       "    <tr>\n",
       "      <th>64</th>\n",
       "      <td>3</td>\n",
       "      <td>1869.949443</td>\n",
       "    </tr>\n",
       "    <tr>\n",
       "      <th>71</th>\n",
       "      <td>3</td>\n",
       "      <td>1830.797024</td>\n",
       "    </tr>\n",
       "    <tr>\n",
       "      <th>75</th>\n",
       "      <td>5</td>\n",
       "      <td>2395.612078</td>\n",
       "    </tr>\n",
       "    <tr>\n",
       "      <th>77</th>\n",
       "      <td>3</td>\n",
       "      <td>1905.239254</td>\n",
       "    </tr>\n",
       "    <tr>\n",
       "      <th>78</th>\n",
       "      <td>3</td>\n",
       "      <td>1968.851571</td>\n",
       "    </tr>\n",
       "    <tr>\n",
       "      <th>79</th>\n",
       "      <td>3</td>\n",
       "      <td>1902.842200</td>\n",
       "    </tr>\n",
       "    <tr>\n",
       "      <th>81</th>\n",
       "      <td>4</td>\n",
       "      <td>2081.331456</td>\n",
       "    </tr>\n",
       "    <tr>\n",
       "      <th>84</th>\n",
       "      <td>4</td>\n",
       "      <td>2100.317801</td>\n",
       "    </tr>\n",
       "    <tr>\n",
       "      <th>85</th>\n",
       "      <td>3</td>\n",
       "      <td>1889.049840</td>\n",
       "    </tr>\n",
       "    <tr>\n",
       "      <th>86</th>\n",
       "      <td>3</td>\n",
       "      <td>1826.302226</td>\n",
       "    </tr>\n",
       "    <tr>\n",
       "      <th>87</th>\n",
       "      <td>4</td>\n",
       "      <td>2016.158167</td>\n",
       "    </tr>\n",
       "    <tr>\n",
       "      <th>89</th>\n",
       "      <td>3</td>\n",
       "      <td>1933.213384</td>\n",
       "    </tr>\n",
       "    <tr>\n",
       "      <th>97</th>\n",
       "      <td>3</td>\n",
       "      <td>1855.336797</td>\n",
       "    </tr>\n",
       "    <tr>\n",
       "      <th>98</th>\n",
       "      <td>4</td>\n",
       "      <td>1951.873859</td>\n",
       "    </tr>\n",
       "    <tr>\n",
       "      <th>99</th>\n",
       "      <td>5</td>\n",
       "      <td>2266.160995</td>\n",
       "    </tr>\n",
       "  </tbody>\n",
       "</table>\n",
       "</div>"
      ],
      "text/plain": [
       "    family_size  total_income\n",
       "7             5   2442.569843\n",
       "13            3   1906.040743\n",
       "16            3   1868.150870\n",
       "19            5   2391.313943\n",
       "21            3   1837.330550\n",
       "23            3   1929.832848\n",
       "24            3   1797.062997\n",
       "25            4   2277.858479\n",
       "26            3   1942.096472\n",
       "27            3   1872.977172\n",
       "29            3   1713.276932\n",
       "32            3   1796.518755\n",
       "35            3   1864.649871\n",
       "36            3   1902.151228\n",
       "37            5   2349.118338\n",
       "42            3   1870.768276\n",
       "45            3   1881.680495\n",
       "47            4   2047.300352\n",
       "52            3   1714.369280\n",
       "53            3   1836.446238\n",
       "54            3   1685.442632\n",
       "55            3   1880.331112\n",
       "58            3   1818.157119\n",
       "59            6   2676.638952\n",
       "61            3   2031.763610\n",
       "62            3   1878.049370\n",
       "64            3   1869.949443\n",
       "71            3   1830.797024\n",
       "75            5   2395.612078\n",
       "77            3   1905.239254\n",
       "78            3   1968.851571\n",
       "79            3   1902.842200\n",
       "81            4   2081.331456\n",
       "84            4   2100.317801\n",
       "85            3   1889.049840\n",
       "86            3   1826.302226\n",
       "87            4   2016.158167\n",
       "89            3   1933.213384\n",
       "97            3   1855.336797\n",
       "98            4   1951.873859\n",
       "99            5   2266.160995"
      ]
     },
     "execution_count": 35,
     "metadata": {},
     "output_type": "execute_result"
    }
   ],
   "source": [
    "df1 = df[df['family_size']>2]\n",
    "df1"
   ]
  },
  {
   "cell_type": "markdown",
   "metadata": {},
   "source": [
    "Вычислим долю p, а также q = 1 - p"
   ]
  },
  {
   "cell_type": "code",
   "execution_count": 40,
   "metadata": {},
   "outputs": [
    {
     "data": {
      "text/plain": [
       "(0.41, 0.5900000000000001)"
      ]
     },
     "execution_count": 40,
     "metadata": {},
     "output_type": "execute_result"
    }
   ],
   "source": [
    "a = len(df1)\n",
    "p = a/n\n",
    "q = 1 - p\n",
    "p,q"
   ]
  },
  {
   "cell_type": "markdown",
   "metadata": {},
   "source": [
    "Посчитаем 95% <b>доверительный интервал</b> для доли p <br>"
   ]
  },
  {
   "cell_type": "code",
   "execution_count": 42,
   "metadata": {},
   "outputs": [
    {
     "data": {
      "text/plain": [
       "1.959963984540054"
      ]
     },
     "execution_count": 42,
     "metadata": {},
     "output_type": "execute_result"
    }
   ],
   "source": [
    "perc = 0.95\n",
    "alpha = 1 - perc\n",
    "t = sp.stats.norm.ppf(1-alpha/2)\n",
    "t"
   ]
  },
  {
   "cell_type": "code",
   "execution_count": 45,
   "metadata": {},
   "outputs": [
    {
     "data": {
      "text/plain": [
       "(0.31308853624147015, 0.5069114637585298)"
      ]
     },
     "execution_count": 45,
     "metadata": {},
     "output_type": "execute_result"
    }
   ],
   "source": [
    "ci_R = p + (t*np.sqrt(1-f)*np.sqrt((p*q)/(n-1)) + 1/(2*n))\n",
    "ci_L = p - (t*np.sqrt(1-f)*np.sqrt((p*q)/(n-1)) + 1/(2*n))\n",
    "ci_L, ci_R"
   ]
  },
  {
   "cell_type": "markdown",
   "metadata": {},
   "source": [
    "Если хотим получить оценку количества элементов в генеральной совокупности, домножаем на N"
   ]
  },
  {
   "cell_type": "code",
   "execution_count": 47,
   "metadata": {},
   "outputs": [
    {
     "data": {
      "text/plain": [
       "(313.08853624147014, 506.9114637585298)"
      ]
     },
     "execution_count": 47,
     "metadata": {},
     "output_type": "execute_result"
    }
   ],
   "source": [
    "N*ci_L, N*ci_R"
   ]
  },
  {
   "cell_type": "markdown",
   "metadata": {},
   "source": [
    "Эти значения показывают, что в генеральной совокупности размера N=1000 количество семей из <b>болле двух человек</b> с 95% вероятностью будет равно значению из данного интервала"
   ]
  },
  {
   "cell_type": "code",
   "execution_count": null,
   "metadata": {},
   "outputs": [],
   "source": []
  }
 ],
 "metadata": {
  "kernelspec": {
   "display_name": "Python 3",
   "language": "python",
   "name": "python3"
  },
  "language_info": {
   "codemirror_mode": {
    "name": "ipython",
    "version": 3
   },
   "file_extension": ".py",
   "mimetype": "text/x-python",
   "name": "python",
   "nbconvert_exporter": "python",
   "pygments_lexer": "ipython3",
   "version": "3.8.2"
  }
 },
 "nbformat": 4,
 "nbformat_minor": 4
}
