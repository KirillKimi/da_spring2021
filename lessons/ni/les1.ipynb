{
 "cells": [
  {
   "cell_type": "code",
   "execution_count": 1,
   "metadata": {},
   "outputs": [],
   "source": [
    "from  itertools import combinations\n",
    "import numpy as np"
   ]
  },
  {
   "cell_type": "code",
   "execution_count": 2,
   "metadata": {},
   "outputs": [],
   "source": [
    "pop = [4, 6, 2, 8, 19]# 1, 7, 4, 3, 2, 11, 15] # general population\n",
    "pop = np.array(pop)\n",
    "N = len(pop)\n",
    "n = 3"
   ]
  },
  {
   "cell_type": "code",
   "execution_count": 3,
   "metadata": {},
   "outputs": [],
   "source": [
    "samples = list(combinations(pop, n))"
   ]
  },
  {
   "cell_type": "code",
   "execution_count": 4,
   "metadata": {},
   "outputs": [
    {
     "data": {
      "text/plain": [
       "[(4, 6, 2),\n",
       " (4, 6, 8),\n",
       " (4, 6, 19),\n",
       " (4, 2, 8),\n",
       " (4, 2, 19),\n",
       " (4, 8, 19),\n",
       " (6, 2, 8),\n",
       " (6, 2, 19),\n",
       " (6, 8, 19),\n",
       " (2, 8, 19)]"
      ]
     },
     "execution_count": 4,
     "metadata": {},
     "output_type": "execute_result"
    }
   ],
   "source": [
    "samples"
   ]
  },
  {
   "cell_type": "code",
   "execution_count": 5,
   "metadata": {},
   "outputs": [
    {
     "data": {
      "text/plain": [
       "10"
      ]
     },
     "execution_count": 5,
     "metadata": {},
     "output_type": "execute_result"
    }
   ],
   "source": [
    "len(samples)"
   ]
  },
  {
   "cell_type": "code",
   "execution_count": 6,
   "metadata": {},
   "outputs": [
    {
     "name": "stdout",
     "output_type": "stream",
     "text": [
      "7.8\n"
     ]
    }
   ],
   "source": [
    "Y_mean = np.array(pop).mean() # cреднее значение генеральной совокупности\n",
    "print(Y_mean)"
   ]
  },
  {
   "cell_type": "code",
   "execution_count": 7,
   "metadata": {},
   "outputs": [],
   "source": [
    "#рассчитываем среднее значение для каждой выборки\n",
    "y_means = np.zeros(len(samples))\n",
    "for i, sample in enumerate(samples):\n",
    "    y_means[i] = np.array(sample).mean()"
   ]
  },
  {
   "cell_type": "code",
   "execution_count": 8,
   "metadata": {},
   "outputs": [
    {
     "data": {
      "text/plain": [
       "array([ 4.        ,  6.        ,  9.66666667,  4.66666667,  8.33333333,\n",
       "       10.33333333,  5.33333333,  9.        , 11.        ,  9.66666667])"
      ]
     },
     "execution_count": 8,
     "metadata": {},
     "output_type": "execute_result"
    }
   ],
   "source": [
    "y_means"
   ]
  },
  {
   "cell_type": "code",
   "execution_count": 9,
   "metadata": {},
   "outputs": [
    {
     "data": {
      "text/plain": [
       "7.8"
      ]
     },
     "execution_count": 9,
     "metadata": {},
     "output_type": "execute_result"
    }
   ],
   "source": [
    "#Выборочное среднее равно среднему значению генеральной совокупности\n",
    "y_means.mean()"
   ]
  },
  {
   "cell_type": "code",
   "execution_count": 10,
   "metadata": {},
   "outputs": [
    {
     "data": {
      "text/plain": [
       "6.0"
      ]
     },
     "execution_count": 10,
     "metadata": {},
     "output_type": "execute_result"
    }
   ],
   "source": [
    "#медиана\n",
    "np.median(pop)"
   ]
  },
  {
   "cell_type": "code",
   "execution_count": 11,
   "metadata": {},
   "outputs": [
    {
     "data": {
      "text/plain": [
       "35.36"
      ]
     },
     "execution_count": 11,
     "metadata": {},
     "output_type": "execute_result"
    }
   ],
   "source": [
    "#Дисперсия генеральной совокупности\n",
    "Y_var = pop.var()\n",
    "Y_var"
   ]
  },
  {
   "cell_type": "code",
   "execution_count": 12,
   "metadata": {},
   "outputs": [
    {
     "data": {
      "text/plain": [
       "44.199999999999996"
      ]
     },
     "execution_count": 12,
     "metadata": {},
     "output_type": "execute_result"
    }
   ],
   "source": [
    "#Дисперсия генеральной совокупности\n",
    "Y_var = pop.var(ddof=1) # N - ddof - знаменатель N-1\n",
    "Y_var"
   ]
  },
  {
   "cell_type": "code",
   "execution_count": 13,
   "metadata": {},
   "outputs": [
    {
     "data": {
      "text/plain": [
       "44.2"
      ]
     },
     "execution_count": 13,
     "metadata": {},
     "output_type": "execute_result"
    }
   ],
   "source": [
    "s2 = pop.size * pop.var() /(pop.size - 1)\n",
    "s2"
   ]
  },
  {
   "cell_type": "code",
   "execution_count": 14,
   "metadata": {},
   "outputs": [],
   "source": [
    "def svar(arr):\n",
    "    return arr.size * arr.var() /(arr.size - 1)"
   ]
  },
  {
   "cell_type": "code",
   "execution_count": 15,
   "metadata": {},
   "outputs": [
    {
     "data": {
      "text/plain": [
       "44.2"
      ]
     },
     "execution_count": 15,
     "metadata": {},
     "output_type": "execute_result"
    }
   ],
   "source": [
    "S2 = svar(pop)\n",
    "S2"
   ]
  },
  {
   "cell_type": "code",
   "execution_count": 16,
   "metadata": {},
   "outputs": [
    {
     "name": "stdout",
     "output_type": "stream",
     "text": [
      "(4, 6, 2) 4.0\n",
      "(4, 6, 8) 4.0\n",
      "(4, 6, 19) 66.33333333333334\n",
      "(4, 2, 8) 9.333333333333332\n",
      "(4, 2, 19) 86.33333333333334\n",
      "(4, 8, 19) 60.33333333333333\n",
      "(6, 2, 8) 9.333333333333332\n",
      "(6, 2, 19) 79.0\n",
      "(6, 8, 19) 49.0\n",
      "(2, 8, 19) 74.33333333333334\n"
     ]
    }
   ],
   "source": [
    "#Вычисляем выборочные дисперсии\n",
    "s_vars = []\n",
    "for sample in samples:\n",
    "    sample_svar = svar(np.array(sample))\n",
    "    s_vars.append(sample_svar)\n",
    "    print(sample, sample_svar)"
   ]
  },
  {
   "cell_type": "code",
   "execution_count": 17,
   "metadata": {},
   "outputs": [
    {
     "data": {
      "text/plain": [
       "44.2"
      ]
     },
     "execution_count": 17,
     "metadata": {},
     "output_type": "execute_result"
    }
   ],
   "source": [
    "# ср. значение всех выборочных дисперсий равно дисперсии генеральной совокупности.\n",
    "np.array(s_vars).mean()"
   ]
  },
  {
   "cell_type": "code",
   "execution_count": 18,
   "metadata": {},
   "outputs": [
    {
     "data": {
      "text/plain": [
       "6.648308055437864"
      ]
     },
     "execution_count": 18,
     "metadata": {},
     "output_type": "execute_result"
    }
   ],
   "source": [
    "#стандартное отклонение\n",
    "pop.std(ddof=1)"
   ]
  },
  {
   "cell_type": "code",
   "execution_count": 19,
   "metadata": {},
   "outputs": [
    {
     "data": {
      "text/plain": [
       "6.648308055437865"
      ]
     },
     "execution_count": 19,
     "metadata": {},
     "output_type": "execute_result"
    }
   ],
   "source": [
    "np.sqrt(np.array(s_vars).mean())"
   ]
  },
  {
   "cell_type": "code",
   "execution_count": 20,
   "metadata": {},
   "outputs": [
    {
     "data": {
      "text/plain": [
       "array([ 4,  6,  2,  8, 19])"
      ]
     },
     "execution_count": 20,
     "metadata": {},
     "output_type": "execute_result"
    }
   ],
   "source": [
    "pop"
   ]
  },
  {
   "cell_type": "code",
   "execution_count": 21,
   "metadata": {},
   "outputs": [],
   "source": [
    "#Среднее, дисперсия, стандартное отклоненеие, медиана для всех возможных выборок n = 2.\n",
    "from  itertools import combinations\n",
    "import numpy as np\n",
    "\n",
    "#рассмотрим пример\n",
    "pop = np.array((8,3,1,11,4,7))\n",
    "n = 2\n",
    "N = pop.size\n",
    "\n",
    "samples = list(combinations(pop, n))"
   ]
  },
  {
   "cell_type": "code",
   "execution_count": 22,
   "metadata": {},
   "outputs": [
    {
     "name": "stdout",
     "output_type": "stream",
     "text": [
      "cреднее значение генеральной совокупности 5.666666666666667\n",
      "Выборочное среднее равно среднему значению генеральной совокупности: 5.666666666666667\n",
      "Дисперсия генеральной совокупности 13.466666666666665\n",
      "ср. значение всех выборочных дисперсий 13.466666666666667\n",
      "стандартное отклонение 3.669695718539436\n"
     ]
    }
   ],
   "source": [
    "Y_mean = np.array(pop).mean() # cреднее значение генеральной совокупности\n",
    "print('cреднее значение генеральной совокупности', Y_mean)\n",
    "#рассчитываем среднее значение для каждой выборки\n",
    "y_means = np.zeros(len(samples))\n",
    "for i, sample in enumerate(samples):\n",
    "    y_means[i] = np.array(sample).mean()\n",
    "\n",
    "#Выборочное среднее равно среднему значению генеральной совокупности\n",
    "print('Выборочное среднее равно среднему значению генеральной совокупности:',y_means.mean())\n",
    "\n",
    "#Дисперсия генеральной совокупности\n",
    "Y_var = pop.var(ddof=1) # N - ddof\n",
    "print('Дисперсия генеральной совокупности', Y_var)\n",
    "\n",
    "#Вычисляем выборочные дисперсии\n",
    "s_vars = []\n",
    "for sample in samples:\n",
    "    sample_svar = svar(np.array(sample))\n",
    "    s_vars.append(sample_svar)\n",
    "    #print(sample, sample_svar)\n",
    "\n",
    "# ср. значение всех выборочных дисперсий равно дисперсии генеральной совокупности.\n",
    "print('ср. значение всех выборочных дисперсий', np.array(s_vars).mean())\n",
    "\n",
    "#стандартное отклонение\n",
    "print('стандартное отклонение', pop.std(ddof=1))"
   ]
  },
  {
   "cell_type": "code",
   "execution_count": 23,
   "metadata": {},
   "outputs": [
    {
     "data": {
      "text/plain": [
       "5.5"
      ]
     },
     "execution_count": 23,
     "metadata": {},
     "output_type": "execute_result"
    }
   ],
   "source": [
    "np.median(pop)"
   ]
  },
  {
   "cell_type": "code",
   "execution_count": null,
   "metadata": {},
   "outputs": [],
   "source": []
  }
 ],
 "metadata": {
  "kernelspec": {
   "display_name": "Python 3",
   "language": "python",
   "name": "python3"
  },
  "language_info": {
   "codemirror_mode": {
    "name": "ipython",
    "version": 3
   },
   "file_extension": ".py",
   "mimetype": "text/x-python",
   "name": "python",
   "nbconvert_exporter": "python",
   "pygments_lexer": "ipython3",
   "version": "3.8.2"
  }
 },
 "nbformat": 4,
 "nbformat_minor": 1
}
