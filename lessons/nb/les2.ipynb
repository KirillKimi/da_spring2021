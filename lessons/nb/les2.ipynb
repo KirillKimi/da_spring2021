{
 "cells": [
  {
   "cell_type": "code",
   "execution_count": 3,
   "metadata": {
    "ExecuteTime": {
     "end_time": "2021-02-15T15:17:53.894102Z",
     "start_time": "2021-02-15T15:17:53.875107Z"
    }
   },
   "outputs": [],
   "source": [
    "import numpy as np"
   ]
  },
  {
   "cell_type": "code",
   "execution_count": 4,
   "metadata": {
    "ExecuteTime": {
     "end_time": "2021-02-15T15:18:37.703413Z",
     "start_time": "2021-02-15T15:18:37.683466Z"
    }
   },
   "outputs": [],
   "source": [
    "gp = np.array([8, 3, 1, 11, 4, 7])"
   ]
  },
  {
   "cell_type": "code",
   "execution_count": 5,
   "metadata": {
    "ExecuteTime": {
     "end_time": "2021-02-15T15:18:45.615179Z",
     "start_time": "2021-02-15T15:18:45.595145Z"
    }
   },
   "outputs": [
    {
     "data": {
      "text/plain": [
       "array([ 8,  3,  1, 11,  4,  7])"
      ]
     },
     "execution_count": 5,
     "metadata": {},
     "output_type": "execute_result"
    }
   ],
   "source": [
    "gp"
   ]
  },
  {
   "cell_type": "code",
   "execution_count": 6,
   "metadata": {
    "ExecuteTime": {
     "end_time": "2021-02-15T15:19:58.566756Z",
     "start_time": "2021-02-15T15:19:58.548559Z"
    }
   },
   "outputs": [
    {
     "data": {
      "text/plain": [
       "5.666666666666667"
      ]
     },
     "execution_count": 6,
     "metadata": {},
     "output_type": "execute_result"
    }
   ],
   "source": [
    "gp.mean()"
   ]
  },
  {
   "cell_type": "code",
   "execution_count": 7,
   "metadata": {
    "ExecuteTime": {
     "end_time": "2021-02-15T15:20:18.700226Z",
     "start_time": "2021-02-15T15:20:18.692247Z"
    }
   },
   "outputs": [
    {
     "data": {
      "text/plain": [
       "5.666666666666667"
      ]
     },
     "execution_count": 7,
     "metadata": {},
     "output_type": "execute_result"
    }
   ],
   "source": [
    "mean = gp.mean()\n",
    "mean"
   ]
  },
  {
   "cell_type": "code",
   "execution_count": 8,
   "metadata": {
    "ExecuteTime": {
     "end_time": "2021-02-15T15:20:39.752307Z",
     "start_time": "2021-02-15T15:20:39.739344Z"
    }
   },
   "outputs": [
    {
     "data": {
      "text/plain": [
       "11.222222222222221"
      ]
     },
     "execution_count": 8,
     "metadata": {},
     "output_type": "execute_result"
    }
   ],
   "source": [
    "gp.var()"
   ]
  },
  {
   "cell_type": "code",
   "execution_count": 9,
   "metadata": {
    "ExecuteTime": {
     "end_time": "2021-02-15T15:21:22.877395Z",
     "start_time": "2021-02-15T15:21:22.869363Z"
    }
   },
   "outputs": [
    {
     "data": {
      "text/plain": [
       "6"
      ]
     },
     "execution_count": 9,
     "metadata": {},
     "output_type": "execute_result"
    }
   ],
   "source": [
    "N = len(gp)\n",
    "N"
   ]
  },
  {
   "cell_type": "code",
   "execution_count": 10,
   "metadata": {
    "ExecuteTime": {
     "end_time": "2021-02-15T15:22:10.826890Z",
     "start_time": "2021-02-15T15:22:10.813926Z"
    }
   },
   "outputs": [
    {
     "data": {
      "text/plain": [
       "67.33333333333333"
      ]
     },
     "execution_count": 10,
     "metadata": {},
     "output_type": "execute_result"
    }
   ],
   "source": [
    "v = 0\n",
    "for i in gp:\n",
    "    v = v + (i - mean) ** 2\n",
    "v"
   ]
  },
  {
   "cell_type": "code",
   "execution_count": 11,
   "metadata": {
    "ExecuteTime": {
     "end_time": "2021-02-15T15:22:28.599381Z",
     "start_time": "2021-02-15T15:22:28.592394Z"
    }
   },
   "outputs": [
    {
     "data": {
      "text/plain": [
       "11.222222222222221"
      ]
     },
     "execution_count": 11,
     "metadata": {},
     "output_type": "execute_result"
    }
   ],
   "source": [
    "v = v / N\n",
    "v"
   ]
  },
  {
   "cell_type": "code",
   "execution_count": 21,
   "metadata": {
    "ExecuteTime": {
     "end_time": "2021-02-15T15:26:29.449623Z",
     "start_time": "2021-02-15T15:26:29.440644Z"
    }
   },
   "outputs": [
    {
     "data": {
      "text/plain": [
       "13.466666666666665"
      ]
     },
     "execution_count": 21,
     "metadata": {},
     "output_type": "execute_result"
    }
   ],
   "source": [
    "# Sample variance\n",
    "S2 = gp.var(ddof=1)\n",
    "S2"
   ]
  },
  {
   "cell_type": "code",
   "execution_count": 13,
   "metadata": {
    "ExecuteTime": {
     "end_time": "2021-02-15T15:24:16.532987Z",
     "start_time": "2021-02-15T15:24:16.525001Z"
    }
   },
   "outputs": [
    {
     "data": {
      "text/plain": [
       "13.466666666666665"
      ]
     },
     "execution_count": 13,
     "metadata": {},
     "output_type": "execute_result"
    }
   ],
   "source": [
    "v = 0\n",
    "for i in gp:\n",
    "    v = v + (i - mean) ** 2\n",
    "v = v / (N - 1)\n",
    "v"
   ]
  },
  {
   "cell_type": "code",
   "execution_count": 14,
   "metadata": {
    "ExecuteTime": {
     "end_time": "2021-02-15T15:24:41.750736Z",
     "start_time": "2021-02-15T15:24:41.741754Z"
    }
   },
   "outputs": [
    {
     "data": {
      "text/plain": [
       "3.34995854037363"
      ]
     },
     "execution_count": 14,
     "metadata": {},
     "output_type": "execute_result"
    }
   ],
   "source": [
    "gp.std()"
   ]
  },
  {
   "cell_type": "code",
   "execution_count": 15,
   "metadata": {
    "ExecuteTime": {
     "end_time": "2021-02-15T15:25:08.932673Z",
     "start_time": "2021-02-15T15:25:08.925428Z"
    }
   },
   "outputs": [
    {
     "data": {
      "text/plain": [
       "2.0"
      ]
     },
     "execution_count": 15,
     "metadata": {},
     "output_type": "execute_result"
    }
   ],
   "source": [
    "np.sqrt(4)"
   ]
  },
  {
   "cell_type": "code",
   "execution_count": 16,
   "metadata": {
    "ExecuteTime": {
     "end_time": "2021-02-15T15:25:28.123697Z",
     "start_time": "2021-02-15T15:25:28.115717Z"
    }
   },
   "outputs": [
    {
     "data": {
      "text/plain": [
       "3.34995854037363"
      ]
     },
     "execution_count": 16,
     "metadata": {},
     "output_type": "execute_result"
    }
   ],
   "source": [
    "np.sqrt(gp.var())"
   ]
  },
  {
   "cell_type": "code",
   "execution_count": 20,
   "metadata": {
    "ExecuteTime": {
     "end_time": "2021-02-15T15:26:19.412446Z",
     "start_time": "2021-02-15T15:26:19.404913Z"
    }
   },
   "outputs": [
    {
     "data": {
      "text/plain": [
       "3.669695718539436"
      ]
     },
     "execution_count": 20,
     "metadata": {},
     "output_type": "execute_result"
    }
   ],
   "source": [
    "S = gp.std(ddof=1)\n",
    "S"
   ]
  },
  {
   "cell_type": "code",
   "execution_count": 18,
   "metadata": {
    "ExecuteTime": {
     "end_time": "2021-02-15T15:26:06.687307Z",
     "start_time": "2021-02-15T15:26:06.679328Z"
    }
   },
   "outputs": [
    {
     "data": {
      "text/plain": [
       "3.669695718539436"
      ]
     },
     "execution_count": 18,
     "metadata": {},
     "output_type": "execute_result"
    }
   ],
   "source": [
    "np.sqrt(gp.var(ddof=1))"
   ]
  },
  {
   "cell_type": "markdown",
   "metadata": {},
   "source": [
    "# Выборки объема 3 "
   ]
  },
  {
   "cell_type": "code",
   "execution_count": 22,
   "metadata": {
    "ExecuteTime": {
     "end_time": "2021-02-15T15:27:04.126414Z",
     "start_time": "2021-02-15T15:27:04.121429Z"
    }
   },
   "outputs": [],
   "source": [
    "n = 3"
   ]
  },
  {
   "cell_type": "code",
   "execution_count": 23,
   "metadata": {
    "ExecuteTime": {
     "end_time": "2021-02-15T15:28:06.462387Z",
     "start_time": "2021-02-15T15:28:06.458415Z"
    }
   },
   "outputs": [],
   "source": [
    "from itertools import combinations"
   ]
  },
  {
   "cell_type": "code",
   "execution_count": 25,
   "metadata": {
    "ExecuteTime": {
     "end_time": "2021-02-15T15:29:35.057978Z",
     "start_time": "2021-02-15T15:29:35.050996Z"
    }
   },
   "outputs": [
    {
     "data": {
      "text/plain": [
       "array([ 8,  3,  1, 11,  4,  7])"
      ]
     },
     "execution_count": 25,
     "metadata": {},
     "output_type": "execute_result"
    }
   ],
   "source": [
    "gp"
   ]
  },
  {
   "cell_type": "code",
   "execution_count": 28,
   "metadata": {
    "ExecuteTime": {
     "end_time": "2021-02-15T15:33:11.280045Z",
     "start_time": "2021-02-15T15:33:11.257480Z"
    }
   },
   "outputs": [
    {
     "name": "stdout",
     "output_type": "stream",
     "text": [
      "General Population mean 5.666666666666667\n"
     ]
    },
    {
     "data": {
      "text/plain": [
       "array([4.        , 7.33333333, 5.        , 6.        , 6.66666667,\n",
       "       4.33333333, 5.33333333, 7.66666667, 8.66666667, 6.33333333,\n",
       "       5.        , 2.66666667, 3.66666667, 6.        , 7.        ,\n",
       "       4.66666667, 5.33333333, 6.33333333, 4.        , 7.33333333])"
      ]
     },
     "execution_count": 28,
     "metadata": {},
     "output_type": "execute_result"
    }
   ],
   "source": [
    "print(\"General Population mean\", mean)\n",
    "sample_means = []\n",
    "for i in combinations(gp, n):\n",
    "    sample = np.array(i)\n",
    "    sample_means.append(sample.mean())\n",
    "sample_means = np.array(sample_means)\n",
    "sample_means"
   ]
  },
  {
   "cell_type": "code",
   "execution_count": 29,
   "metadata": {
    "ExecuteTime": {
     "end_time": "2021-02-15T15:33:28.608461Z",
     "start_time": "2021-02-15T15:33:28.600476Z"
    }
   },
   "outputs": [
    {
     "data": {
      "text/plain": [
       "5.666666666666666"
      ]
     },
     "execution_count": 29,
     "metadata": {},
     "output_type": "execute_result"
    }
   ],
   "source": [
    "sample_means.mean()"
   ]
  },
  {
   "cell_type": "code",
   "execution_count": 30,
   "metadata": {
    "ExecuteTime": {
     "end_time": "2021-02-15T15:33:35.450897Z",
     "start_time": "2021-02-15T15:33:35.443915Z"
    }
   },
   "outputs": [
    {
     "data": {
      "text/plain": [
       "5.666666666666667"
      ]
     },
     "execution_count": 30,
     "metadata": {},
     "output_type": "execute_result"
    }
   ],
   "source": [
    "mean"
   ]
  },
  {
   "cell_type": "markdown",
   "metadata": {},
   "source": [
    "## Проверить, что s2 есть несмещенная оценая S2, а sigma2_sample есть смещенная оценка sigma2"
   ]
  },
  {
   "cell_type": "code",
   "execution_count": null,
   "metadata": {},
   "outputs": [],
   "source": []
  },
  {
   "cell_type": "markdown",
   "metadata": {},
   "source": [
    "# Стандартные ошибки и доверительные интервалы"
   ]
  },
  {
   "cell_type": "code",
   "execution_count": 37,
   "metadata": {
    "ExecuteTime": {
     "end_time": "2021-02-15T15:49:49.672129Z",
     "start_time": "2021-02-15T15:49:49.661153Z"
    }
   },
   "outputs": [
    {
     "name": "stdout",
     "output_type": "stream",
     "text": [
      "[1 2 2 4 3 4 2 2 2 2 1 1 0 2 3 2 2 2 4 2 2 2 2 3 2 0 0 2 2 0 0 1 2 4 3]\n"
     ]
    },
    {
     "data": {
      "text/plain": [
       "array([1, 2, 2, 4, 3, 4, 2, 2, 2, 2, 1, 1, 2, 3, 2, 2, 2, 4, 2, 2, 2, 2,\n",
       "       3, 2, 2, 2, 1, 2, 4, 3])"
      ]
     },
     "execution_count": 37,
     "metadata": {},
     "output_type": "execute_result"
    }
   ],
   "source": [
    "sample = np.random.poisson(2, 35)\n",
    "print(sample)\n",
    "sample = sample[sample > 0]\n",
    "sample"
   ]
  },
  {
   "cell_type": "code",
   "execution_count": 38,
   "metadata": {
    "ExecuteTime": {
     "end_time": "2021-02-15T15:50:18.154361Z",
     "start_time": "2021-02-15T15:50:18.148364Z"
    }
   },
   "outputs": [
    {
     "data": {
      "text/plain": [
       "(30, 14848)"
      ]
     },
     "execution_count": 38,
     "metadata": {},
     "output_type": "execute_result"
    }
   ],
   "source": [
    "n = len(sample)\n",
    "N = 14848\n",
    "n, N"
   ]
  },
  {
   "cell_type": "markdown",
   "metadata": {},
   "source": [
    "Дано: количество людей в домах\n",
    "\n",
    "В выборке n домов\n",
    "\n",
    "В ГС (микрорайон) N домов\n",
    "\n",
    "Вопрос: оценить суммарное количество людей, проживающих в микрорайоне и построить 80% доверителньый интервал.\n"
   ]
  },
  {
   "cell_type": "code",
   "execution_count": 40,
   "metadata": {
    "ExecuteTime": {
     "end_time": "2021-02-15T15:53:33.678742Z",
     "start_time": "2021-02-15T15:53:33.671549Z"
    }
   },
   "outputs": [
    {
     "data": {
      "text/plain": [
       "2.2666666666666666"
      ]
     },
     "execution_count": 40,
     "metadata": {},
     "output_type": "execute_result"
    }
   ],
   "source": [
    "sample_mean = sample.mean()\n",
    "sample_mean"
   ]
  },
  {
   "cell_type": "code",
   "execution_count": 41,
   "metadata": {
    "ExecuteTime": {
     "end_time": "2021-02-15T15:55:24.885940Z",
     "start_time": "2021-02-15T15:55:24.857018Z"
    }
   },
   "outputs": [
    {
     "data": {
      "text/plain": [
       "33655.46666666667"
      ]
     },
     "execution_count": 41,
     "metadata": {},
     "output_type": "execute_result"
    }
   ],
   "source": [
    "gp_total_est = N * sample_mean\n",
    "gp_total_est"
   ]
  },
  {
   "cell_type": "code",
   "execution_count": 42,
   "metadata": {
    "ExecuteTime": {
     "end_time": "2021-02-15T15:57:05.191830Z",
     "start_time": "2021-02-15T15:57:05.183851Z"
    }
   },
   "outputs": [
    {
     "data": {
      "text/plain": [
       "0.0020204741379310346"
      ]
     },
     "execution_count": 42,
     "metadata": {},
     "output_type": "execute_result"
    }
   ],
   "source": [
    "f = n / N\n",
    "f"
   ]
  },
  {
   "cell_type": "code",
   "execution_count": 43,
   "metadata": {
    "ExecuteTime": {
     "end_time": "2021-02-15T15:57:28.394134Z",
     "start_time": "2021-02-15T15:57:28.374401Z"
    }
   },
   "outputs": [
    {
     "data": {
      "text/plain": [
       "0.8683449709106095"
      ]
     },
     "execution_count": 43,
     "metadata": {},
     "output_type": "execute_result"
    }
   ],
   "source": [
    "sample_std = sample.std(ddof=1)\n",
    "sample_std"
   ]
  },
  {
   "cell_type": "code",
   "execution_count": 44,
   "metadata": {
    "ExecuteTime": {
     "end_time": "2021-02-15T15:58:26.127529Z",
     "start_time": "2021-02-15T15:58:26.107033Z"
    }
   },
   "outputs": [
    {
     "data": {
      "text/plain": [
       "0.15837713477204401"
      ]
     },
     "execution_count": 44,
     "metadata": {},
     "output_type": "execute_result"
    }
   ],
   "source": [
    "mean_standard_error = sample_std * np.sqrt(1 - f) / np.sqrt(n)\n",
    "mean_standard_error"
   ]
  },
  {
   "cell_type": "code",
   "execution_count": 45,
   "metadata": {
    "ExecuteTime": {
     "end_time": "2021-02-15T15:59:04.433588Z",
     "start_time": "2021-02-15T15:59:04.425603Z"
    }
   },
   "outputs": [
    {
     "data": {
      "text/plain": [
       "2351.5836970953096"
      ]
     },
     "execution_count": 45,
     "metadata": {},
     "output_type": "execute_result"
    }
   ],
   "source": [
    "total_standard_error = N * mean_standard_error\n",
    "total_standard_error"
   ]
  },
  {
   "cell_type": "code",
   "execution_count": 46,
   "metadata": {
    "ExecuteTime": {
     "end_time": "2021-02-15T16:00:01.386649Z",
     "start_time": "2021-02-15T15:59:55.146929Z"
    }
   },
   "outputs": [],
   "source": [
    "from scipy import stats"
   ]
  },
  {
   "cell_type": "code",
   "execution_count": 56,
   "metadata": {
    "ExecuteTime": {
     "end_time": "2021-02-15T16:08:46.798174Z",
     "start_time": "2021-02-15T16:08:42.247403Z"
    }
   },
   "outputs": [],
   "source": [
    "import matplotlib as mpl\n",
    "import matplotlib.pyplot as plt\n",
    "import seaborn as sns\n",
    "%matplotlib inline"
   ]
  },
  {
   "cell_type": "code",
   "execution_count": 57,
   "metadata": {
    "ExecuteTime": {
     "end_time": "2021-02-15T16:09:08.768520Z",
     "start_time": "2021-02-15T16:09:08.358588Z"
    }
   },
   "outputs": [
    {
     "data": {
      "text/plain": [
       "<seaborn.axisgrid.FacetGrid at 0x25282af1340>"
      ]
     },
     "execution_count": 57,
     "metadata": {},
     "output_type": "execute_result"
    },
    {
     "data": {
      "image/png": "[encoded data removed]",
      "text/plain": [
       "<Figure size 360x360 with 1 Axes>"
      ]
     },
     "metadata": {
      "needs_background": "light"
     },
     "output_type": "display_data"
    }
   ],
   "source": [
    "a = stats.norm.rvs(size=1000)\n",
    "sns.displot(a)"
   ]
  },
  {
   "cell_type": "code",
   "execution_count": 65,
   "metadata": {
    "ExecuteTime": {
     "end_time": "2021-02-15T16:24:54.334300Z",
     "start_time": "2021-02-15T16:24:54.326307Z"
    }
   },
   "outputs": [
    {
     "data": {
      "text/plain": [
       "658008.0"
      ]
     },
     "execution_count": 65,
     "metadata": {},
     "output_type": "execute_result"
    }
   ],
   "source": [
    "import math\n",
    "math.factorial(40) / (math.factorial(35) * math.factorial(5))"
   ]
  },
  {
   "cell_type": "code",
   "execution_count": 66,
   "metadata": {
    "ExecuteTime": {
     "end_time": "2021-02-15T16:25:20.551384Z",
     "start_time": "2021-02-15T16:25:18.414723Z"
    }
   },
   "outputs": [
    {
     "name": "stdout",
     "output_type": "stream",
     "text": [
      "Population mean:  9.879690994041415\n",
      "Num of samples:  142506\n",
      "Mean of means:  9.879690994041413\n"
     ]
    },
    {
     "data": {
      "text/plain": [
       "<seaborn.axisgrid.FacetGrid at 0x25282cec8b0>"
      ]
     },
     "execution_count": 66,
     "metadata": {},
     "output_type": "execute_result"
    },
    {
     "data": {
      "image/png": "[encoded data removed]",
      "text/plain": [
       "<Figure size 360x360 with 1 Axes>"
      ]
     },
     "metadata": {
      "needs_background": "light"
     },
     "output_type": "display_data"
    }
   ],
   "source": [
    "pop = stats.norm.rvs(size=30, loc=10, scale=2)\n",
    "print(\"Population mean: \", pop.mean())\n",
    "s_size = 5\n",
    "sam_means = []\n",
    "for i in combinations(pop, s_size):\n",
    "    sam = np.array(i)\n",
    "    sam_means.append(sam.mean())\n",
    "sam_means = np.array(sam_means)\n",
    "print(\"Num of samples: \", len(sam_means))\n",
    "print(\"Mean of means: \", sam_means.mean())\n",
    "sns.displot(sam_means)"
   ]
  },
  {
   "cell_type": "code",
   "execution_count": null,
   "metadata": {},
   "outputs": [],
   "source": []
  },
  {
   "cell_type": "code",
   "execution_count": null,
   "metadata": {},
   "outputs": [],
   "source": []
  },
  {
   "cell_type": "code",
   "execution_count": null,
   "metadata": {},
   "outputs": [],
   "source": []
  },
  {
   "cell_type": "code",
   "execution_count": 55,
   "metadata": {
    "ExecuteTime": {
     "end_time": "2021-02-15T16:08:09.925010Z",
     "start_time": "2021-02-15T16:08:09.917504Z"
    }
   },
   "outputs": [
    {
     "data": {
      "text/plain": [
       "-1.9599639845400545"
      ]
     },
     "execution_count": 55,
     "metadata": {},
     "output_type": "execute_result"
    }
   ],
   "source": [
    "stats.norm.ppf(0.025)"
   ]
  },
  {
   "cell_type": "markdown",
   "metadata": {},
   "source": [
    "80% - ДИ"
   ]
  },
  {
   "cell_type": "code",
   "execution_count": 58,
   "metadata": {
    "ExecuteTime": {
     "end_time": "2021-02-15T16:11:06.208392Z",
     "start_time": "2021-02-15T16:11:06.203010Z"
    }
   },
   "outputs": [],
   "source": [
    "alpha = 0.2"
   ]
  },
  {
   "cell_type": "code",
   "execution_count": 62,
   "metadata": {
    "ExecuteTime": {
     "end_time": "2021-02-15T16:20:25.801750Z",
     "start_time": "2021-02-15T16:20:25.794772Z"
    }
   },
   "outputs": [
    {
     "data": {
      "text/plain": [
       "33655.46666666667"
      ]
     },
     "execution_count": 62,
     "metadata": {},
     "output_type": "execute_result"
    }
   ],
   "source": [
    "gp_total_est"
   ]
  },
  {
   "cell_type": "code",
   "execution_count": 61,
   "metadata": {
    "ExecuteTime": {
     "end_time": "2021-02-15T16:19:30.072282Z",
     "start_time": "2021-02-15T16:19:30.060248Z"
    }
   },
   "outputs": [
    {
     "name": "stdout",
     "output_type": "stream",
     "text": [
      "80%-й доверительный интервал:\n"
     ]
    },
    {
     "data": {
      "text/plain": [
       "(30641.790898145013, 36669.14243518832)"
      ]
     },
     "execution_count": 61,
     "metadata": {},
     "output_type": "execute_result"
    }
   ],
   "source": [
    "t_left = stats.norm.ppf(alpha / 2) # t_left < 0\n",
    "t_right = stats.norm.ppf(1 - alpha / 2)\n",
    "\n",
    "gp_total_CI_left = gp_total_est + t_left * total_standard_error\n",
    "gp_total_CI_right = gp_total_est + t_right * total_standard_error\n",
    "print('80%-й доверительный интервал:')\n",
    "(gp_total_CI_left, gp_total_CI_right)"
   ]
  },
  {
   "cell_type": "code",
   "execution_count": null,
   "metadata": {},
   "outputs": [],
   "source": [
    "# df - pandas Data Frame\n",
    "# df.values - numpy array"
   ]
  }
 ],
 "metadata": {
  "kernelspec": {
   "display_name": "Python 3",
   "language": "python",
   "name": "python3"
  },
  "language_info": {
   "codemirror_mode": {
    "name": "ipython",
    "version": 3
   },
   "file_extension": ".py",
   "mimetype": "text/x-python",
   "name": "python",
   "nbconvert_exporter": "python",
   "pygments_lexer": "ipython3",
   "version": "3.9.1"
  },
  "latex_envs": {
   "LaTeX_envs_menu_present": true,
   "autoclose": false,
   "autocomplete": true,
   "bibliofile": "biblio.bib",
   "cite_by": "apalike",
   "current_citInitial": 1,
   "eqLabelWithNumbers": true,
   "eqNumInitial": 1,
   "hotkeys": {
    "equation": "Ctrl-E",
    "itemize": "Ctrl-I"
   },
   "labels_anchors": false,
   "latex_user_defs": false,
   "report_style_numbering": false,
   "user_envs_cfg": false
  },
  "toc": {
   "base_numbering": 1,
   "nav_menu": {},
   "number_sections": true,
   "sideBar": true,
   "skip_h1_title": false,
   "title_cell": "Table of Contents",
   "title_sidebar": "Contents",
   "toc_cell": false,
   "toc_position": {},
   "toc_section_display": true,
   "toc_window_display": false
  },
  "varInspector": {
   "cols": {
    "lenName": 16,
    "lenType": 16,
    "lenVar": 40
   },
   "kernels_config": {
    "python": {
     "delete_cmd_postfix": "",
     "delete_cmd_prefix": "del ",
     "library": "var_list.py",
     "varRefreshCmd": "print(var_dic_list())"
    },
    "r": {
     "delete_cmd_postfix": ") ",
     "delete_cmd_prefix": "rm(",
     "library": "var_list.r",
     "varRefreshCmd": "cat(var_dic_list()) "
    }
   },
   "types_to_exclude": [
    "module",
    "function",
    "builtin_function_or_method",
    "instance",
    "_Feature"
   ],
   "window_display": false
  }
 },
 "nbformat": 4,
 "nbformat_minor": 1
}
